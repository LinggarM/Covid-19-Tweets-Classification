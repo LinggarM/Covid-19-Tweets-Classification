{
 "cells": [
  {
   "cell_type": "markdown",
   "metadata": {
    "id": "Gghij_-L1jKO"
   },
   "source": [
    "# Import Dependencies"
   ]
  },
  {
   "cell_type": "markdown",
   "metadata": {},
   "source": [
    "## Install Dependencies"
   ]
  },
  {
   "cell_type": "code",
   "execution_count": 212,
   "metadata": {
    "colab": {
     "base_uri": "https://localhost:8080/"
    },
    "id": "eMWoqXYnOHPA",
    "outputId": "1153b442-dbbe-4d20-f28d-9491cab7f6e0"
   },
   "outputs": [
    {
     "name": "stdout",
     "output_type": "stream",
     "text": [
      "Requirement already satisfied: tweepy in /usr/local/lib/python3.7/dist-packages (3.10.0)\n",
      "Requirement already satisfied: requests-oauthlib>=0.7.0 in /usr/local/lib/python3.7/dist-packages (from tweepy) (1.3.0)\n",
      "Requirement already satisfied: requests[socks]>=2.11.1 in /usr/local/lib/python3.7/dist-packages (from tweepy) (2.23.0)\n",
      "Requirement already satisfied: six>=1.10.0 in /usr/local/lib/python3.7/dist-packages (from tweepy) (1.15.0)\n",
      "Requirement already satisfied: oauthlib>=3.0.0 in /usr/local/lib/python3.7/dist-packages (from requests-oauthlib>=0.7.0->tweepy) (3.1.0)\n",
      "Requirement already satisfied: idna<3,>=2.5 in /usr/local/lib/python3.7/dist-packages (from requests[socks]>=2.11.1->tweepy) (2.10)\n",
      "Requirement already satisfied: urllib3!=1.25.0,!=1.25.1,<1.26,>=1.21.1 in /usr/local/lib/python3.7/dist-packages (from requests[socks]>=2.11.1->tweepy) (1.24.3)\n",
      "Requirement already satisfied: certifi>=2017.4.17 in /usr/local/lib/python3.7/dist-packages (from requests[socks]>=2.11.1->tweepy) (2020.12.5)\n",
      "Requirement already satisfied: chardet<4,>=3.0.2 in /usr/local/lib/python3.7/dist-packages (from requests[socks]>=2.11.1->tweepy) (3.0.4)\n",
      "Requirement already satisfied: PySocks!=1.5.7,>=1.5.6; extra == \"socks\" in /usr/local/lib/python3.7/dist-packages (from requests[socks]>=2.11.1->tweepy) (1.7.1)\n"
     ]
    }
   ],
   "source": [
    "!pip install tweepy"
   ]
  },
  {
   "cell_type": "code",
   "execution_count": 213,
   "metadata": {
    "colab": {
     "base_uri": "https://localhost:8080/"
    },
    "id": "GuqNPrsD58j7",
    "outputId": "cc90a0a8-373c-45f3-e9aa-1ebb99e033c5"
   },
   "outputs": [
    {
     "name": "stdout",
     "output_type": "stream",
     "text": [
      "Requirement already satisfied: Sastrawi in /usr/local/lib/python3.7/dist-packages (1.0.1)\n"
     ]
    }
   ],
   "source": [
    "!pip install Sastrawi"
   ]
  },
  {
   "cell_type": "markdown",
   "metadata": {},
   "source": [
    "## Import Dependencies"
   ]
  },
  {
   "cell_type": "code",
   "execution_count": 1,
   "metadata": {
    "id": "bjkFGdukOFZd"
   },
   "outputs": [],
   "source": [
    "import tweepy\n",
    "import re"
   ]
  },
  {
   "cell_type": "markdown",
   "metadata": {},
   "source": [
    "## Import API"
   ]
  },
  {
   "cell_type": "code",
   "execution_count": 215,
   "metadata": {
    "id": "hRoXl4z915LJ"
   },
   "outputs": [],
   "source": [
    "path = \"/gdrive/MyDrive/Upload/Akademik/Tugas PBA - Klasifikasi Tweets Covid-19\"\n",
    "api_path = \"/gdrive/MyDrive/Upload/API/\""
   ]
  },
  {
   "cell_type": "code",
   "execution_count": 216,
   "metadata": {
    "id": "QsDTZ7sHEILa"
   },
   "outputs": [],
   "source": [
    "import sys\n",
    "sys.path.append(api_path)"
   ]
  },
  {
   "cell_type": "code",
   "execution_count": 217,
   "metadata": {
    "id": "vG6SGBUKNvxb"
   },
   "outputs": [],
   "source": [
    "import tweepy_api\n",
    "\n",
    "api_key = tweepy_api.api_key()\n",
    "api_secret_key = tweepy_api.api_secret_key()\n",
    "bearer_token = tweepy_api.bearer_token()\n",
    "\n",
    "access_token = tweepy_api.access_token()\n",
    "access_token_secret = tweepy_api.access_token_secret()"
   ]
  },
  {
   "cell_type": "code",
   "execution_count": 218,
   "metadata": {
    "id": "GotBFev0OwrZ"
   },
   "outputs": [],
   "source": [
    "auth = tweepy.OAuthHandler(api_key, api_secret_key)\n",
    "auth.set_access_token(access_token, access_token_secret)\n",
    "api = tweepy.API(auth)"
   ]
  },
  {
   "cell_type": "markdown",
   "metadata": {
    "id": "2q2Ha_0ppiW1"
   },
   "source": [
    "# Retrieve Data"
   ]
  },
  {
   "cell_type": "markdown",
   "metadata": {
    "id": "HIwnWPh-plD0"
   },
   "source": [
    "## Vaccine"
   ]
  },
  {
   "cell_type": "code",
   "execution_count": 70,
   "metadata": {
    "id": "ok6ewP5cnMQh"
   },
   "outputs": [],
   "source": [
    "vaccine_tweets = []"
   ]
  },
  {
   "cell_type": "markdown",
   "metadata": {
    "id": "BYOHKMI2psBk"
   },
   "source": [
    "### Astrazeneca"
   ]
  },
  {
   "cell_type": "code",
   "execution_count": 72,
   "metadata": {
    "colab": {
     "base_uri": "https://localhost:8080/"
    },
    "id": "yNvsrTXceqQp",
    "outputId": "a816cdfa-e289-414d-bb26-eb44c91f8a9c"
   },
   "outputs": [
    {
     "name": "stdout",
     "output_type": "stream",
     "text": [
      "Menlu_RI 2021-06-10 16:08:53 :\n",
      " Ketiga jenis vaksin yang digunakan Indonesia, Sinovac, AstraZeneca dan Sinopharm telah memperoleh Emergency Use Listing (EUL) dari WHO.\n",
      "------------------------------------------\n",
      "Menlu_RI 2021-06-10 16:08:53 :\n",
      " Alhamdullilah pada malam ini, Indonesia kembali menerima vaksin AstraZeneca melalui jalur multilateral, Covax Facil… https://t.co/uoiAL92MPV\n",
      "------------------------------------------\n",
      "kumparan 2021-06-10 16:08:34 :\n",
      " Menteri Luar Negeri Retno Marsudi mengatakan, vaksin AstraZeneca ini tiba dari skema COVAX. Sebelumnya, pada 5 Juni… https://t.co/DWkhhhj3ha\n",
      "------------------------------------------\n",
      "kompascom 2021-06-10 16:07:03 :\n",
      " Dengan penambahan 1,5 juta dosis vaksin AstraZeneca tersebut, total dosis vaksin yang telah diterima Indonesia seba… https://t.co/tjcH4xGBfx\n",
      "------------------------------------------\n",
      "AlbertSolo2 2021-06-10 16:06:31 :\n",
      " Indonesia Kedatangan 1,5 Juta Dosis Vaksin AstraZeneca https://t.co/cxSlZqh34b\n",
      "------------------------------------------\n",
      "CNNIndonesia 2021-06-10 16:04:14 :\n",
      " Indonesia Kedatangan 1,5 Juta Dosis Vaksin AstraZeneca https://t.co/15wWXUZ9Vw\n",
      "------------------------------------------\n",
      "AyoAjaOrangnya 2021-06-10 15:59:30 :\n",
      " Alhamdulillah. Saya sudah di VAKSIN! #AstraZeneca sebagai bentuk ikhtiar pencegahan penyakit COVID-19. Terima kasih… https://t.co/pa4db8sbfS\n",
      "------------------------------------------\n",
      "EvaMalca 2021-06-10 15:58:37 :\n",
      " @afrkml Aku kira itu list akibat vaksin astrazeneca ☺️\n",
      "------------------------------------------\n",
      "setkabgoid 2021-06-10 15:57:30 :\n",
      " Hari ini, sebanyak 1,5 juta dosis vaksin COVID-19 produksi AstraZeneca kembali tiba di Tanah Air. \n",
      "\n",
      "Selain itu, bes… https://t.co/yHM7WpxYxZ\n",
      "------------------------------------------\n",
      "agitamr 2021-06-10 15:38:47 :\n",
      " nih yang nanya efek samping vaksin astrazeneca :\n",
      "1) Kalo malem panas dingin mengigil\n",
      "2) Badan linu sampe ke tulang… https://t.co/3SWRZEyJay\n",
      "------------------------------------------\n",
      "lensaRTV 2021-06-10 15:38:00 :\n",
      " Indonesia kembali kedatangan vaksin Covid-19 tahap ke-15 yang tiba malam ini di Bandara Soekarno-Hatta. Kali ini ju… https://t.co/XLCIjvZksM\n",
      "------------------------------------------\n",
      "InvestorID 2021-06-10 15:31:28 :\n",
      " Malam Ini, Indonesia Terima 1,5 Juta Dosis Vaksin AstraZeneca https://t.co/O3Vo67WteZ https://t.co/bCS95LMoZE\n",
      "------------------------------------------\n",
      "cnbcindonesia 2021-06-10 15:31:10 :\n",
      " RI Kedatangan 1,5 Juta Dosis Vaksin Covid-19 AstraZeneca https://t.co/mlNdfzQiEZ\n",
      "------------------------------------------\n",
      "Beritasatu 2021-06-10 15:20:18 :\n",
      " Malam Ini, Indonesia Terima 1,5 Juta Dosis Vaksin Astrazeneca https://t.co/eOX5ac7X01 https://t.co/9cnGsU0rab\n",
      "------------------------------------------\n",
      "inibukantessa 2021-06-10 15:10:31 :\n",
      " @dmanda17 Kita abis vaksin astrazeneca berarti jadu keturunan keluarga kerajaan Inggris dong\n",
      "------------------------------------------\n",
      "mohzamzam_ 2021-06-10 15:07:08 :\n",
      " jadi gue dapet vaksin #AstraZeneca di RSUP fatmawati, untuk dosis pertama itu gue disuntik hari ini which is tangga… https://t.co/myXxaluo1Z\n",
      "------------------------------------------\n",
      "mohzamzam_ 2021-06-10 15:03:49 :\n",
      " mau sharing tentang vaksin #AstraZeneca ah untuk beberapa hari/minggu/bulan kedepan. twitnya gue pin ya !!\n",
      "------------------------------------------\n",
      "opsiin 2021-06-10 14:51:22 :\n",
      " Syarat Penerima Vaksin AstraZeneca, Perlu Banget Dicatat! – Detik- https://t.co/XwSncsMQ2h https://t.co/6q5ERYLqKH\n",
      "------------------------------------------\n",
      "opsiin 2021-06-10 14:51:11 :\n",
      " Syarat Penerima Vaksin AstraZeneca, Perlu Banget Dicatat! – Detik https://t.co/mt3LQ3YnDp\n",
      "------------------------------------------\n",
      "syarifahay_ 2021-06-10 14:45:00 :\n",
      " Astrazeneca / sinovac jd abis vaksin maem https://t.co/sKFBupra4U\n",
      "------------------------------------------\n",
      "opsiin 2021-06-10 14:35:48 :\n",
      " DKI Kebut Suntik Vaksin AstraZeneca Cegah Kedaluwarsa Juni – CNN Indonesia- https://t.co/S6Mv5QCQlY https://t.co/GRW965SBzO\n",
      "------------------------------------------\n",
      "opsiin 2021-06-10 14:35:40 :\n",
      " DKI Kebut Suntik Vaksin AstraZeneca Cegah Kedaluwarsa Juni – CNN Indonesia https://t.co/mAY3ARLm7L\n",
      "------------------------------------------\n",
      "ftmhabdllh 2021-06-10 14:31:11 :\n",
      " Feedback dari kami bertiga lepas ambil vaksin yang berlainan.\n",
      "\n",
      "Mak (pfizer) - tak ada apa apa.\n",
      "Abg majid (sinovac)… https://t.co/cMVBfefswI\n",
      "------------------------------------------\n",
      "opsiin 2021-06-10 14:30:50 :\n",
      " Mobil Puskesmas Angkut Vaksin AstraZeneca Terguling di Blitar – detikNews- https://t.co/jcsfpASe9D https://t.co/oj5TmzYrOu\n",
      "------------------------------------------\n",
      "opsiin 2021-06-10 14:30:41 :\n",
      " Mobil Puskesmas Angkut Vaksin AstraZeneca Terguling di Blitar – detikNews https://t.co/h6lMYO1edf\n",
      "------------------------------------------\n",
      "opsiin 2021-06-10 14:29:07 :\n",
      " Kemenkes Sediakan 400 Ribu Vaksin AstraZeneca untuk DKI – Republika- https://t.co/O3W8gaLfPs https://t.co/UPKkSFA5Y0\n",
      "------------------------------------------\n",
      "opsiin 2021-06-10 14:28:51 :\n",
      " Kemenkes Sediakan 400 Ribu Vaksin AstraZeneca untuk DKI – Republika https://t.co/pFTVEAaAHN\n",
      "------------------------------------------\n",
      "giewhydi 2021-06-10 14:21:00 :\n",
      " Daftar vaksin yang telah disetujui WHO.\n",
      "\n",
      "Isndonesia telah menggunakan 3 jenis vaksin, yakni Sinovac, AstraZeneca, d… https://t.co/LggOflKW9b\n",
      "------------------------------------------\n",
      "KATADATAcoid 2021-06-10 14:16:17 :\n",
      " Sebanyak 400 ribu stok vaksin Covid-19 merek AstraZeneca yang berada di Jakarta akan kedaluwarsa pada Juni 2021. Ke… https://t.co/QrGQD4JabF\n",
      "------------------------------------------\n",
      "FIMELAdotcom 2021-06-10 14:16:05 :\n",
      " Cerita Sandiaga Uno Jalani Vaksin Covid-19 AstraZeneca Dosis Pertama: Sandiaga Uno Jalani Vaksin Covid-19 AstraZene… https://t.co/eZItg8U50U\n",
      "------------------------------------------\n",
      "andradjaafara 2021-06-10 14:09:52 :\n",
      " @afriandiniputri ini semoga membantu din https://t.co/ew2kKXL6iS\n",
      "------------------------------------------\n",
      "WilsonLayman 2021-06-10 14:07:21 :\n",
      " @setkabgoid @jokowi Apakah vaksin astrazeneca akan diimpor kembali untuk suntikan kedua atau akan digunakan vaksin… https://t.co/hE65XY7F1f\n",
      "------------------------------------------\n",
      "detikHealth 2021-06-10 14:06:32 :\n",
      " Vaksin Sinovac dan Astrazeneca saat ini jadi vaksin COVID-19 yang paling banyak digunakan di Indonesia. Ini beda be… https://t.co/6mvHvl8iKX\n",
      "------------------------------------------\n",
      "Ahdorable_Trap 2021-06-10 14:03:45 :\n",
      " Aku belum vaksin, \n",
      "ditawarin vaksin  Sinovac atau vaksin Astrazeneca \n",
      "\n",
      "Masih ragu mau vaksin tapi takut jg kena covid 😶\n",
      "------------------------------------------\n",
      "DoyanMusik4 2021-06-10 14:00:13 :\n",
      " Syarat Penerima Vaksin AstraZeneca, Perlu Banget Dicatat! https://t.co/GhMibVxAS8\n",
      "------------------------------------------\n",
      "detikcom 2021-06-10 13:55:40 :\n",
      " Vaksinasi Corona tahap ketiga diperluas sasarannya, boleh untuk masyarakat umum 18 tahun ke atas. Adapun syarat pen… https://t.co/34BhQ5QNV1\n",
      "------------------------------------------\n",
      "detikHealth 2021-06-10 13:54:54 :\n",
      " Masih takut menggunakan vaksin AstraZeneca? Berikut ini beberapa fakta terkait keamanannya:\n",
      "\n",
      "https://t.co/IJPXPaa7Of\n",
      "------------------------------------------\n",
      "datukhensem 2021-06-10 13:54:39 :\n",
      " Hari ini 3046 orang telah diberikan dos vaksin AstraZeneca di PPVAZ BCCK Kuching. \n",
      "\n",
      "Mantap orang Kuching.\n",
      "------------------------------------------\n",
      "afriandiniputri 2021-06-10 13:52:30 :\n",
      " Studi Terbaru Efek Samping Vaksin AstraZeneca, Ini Hasilnya https://t.co/sjhTTy6Znh\n",
      "------------------------------------------\n",
      "detikHealth 2021-06-10 13:49:11 :\n",
      " Pelaksanaan vaksinasi tahap III di DKI ini akan menggunakan vaksin AstraZeneca.\n",
      "\n",
      "https://t.co/yHr3V3G3ZU\n",
      "------------------------------------------\n",
      "detikcom 2021-06-10 13:37:38 :\n",
      " Vaksin Sinovac dan Astrazeneca saat ini jadi vaksin COVID-19 yang paling banyak digunakan di Indonesia. Ini beda be… https://t.co/5DDNaqTEwJ\n",
      "------------------------------------------\n",
      "indoseputarinfo 2021-06-10 13:22:10 :\n",
      " Vaksin-vaksin itu ada yang dipake buat vaksinasi gratis, kayak Sinovac dan Astrazeneca. Ada juga yang dipake buat v… https://t.co/3Ry9tlvj0o\n",
      "------------------------------------------\n",
      "42\n"
     ]
    }
   ],
   "source": [
    "# Retrieve Class \"Vaccine\"\n",
    "search_tweets = api.search(q=\"vaksin astrazeneca\", count=100)\n",
    "count = 0\n",
    "for tweet in search_tweets:\n",
    "  tweet_list = []\n",
    "  if (tweet.lang == 'in' and (re.search(r'^RT @', tweet.text) == None)) :\n",
    "    tweet_list.extend([tweet.user.screen_name, tweet.text, tweet.created_at, 'vaccine'])\n",
    "    vaccine_tweets.append(tweet_list)\n",
    "    print(tweet.user.screen_name, tweet.created_at, \":\\n\", tweet.text)\n",
    "    print(\"------------------------------------------\")\n",
    "    count += 1\n",
    "print(count)"
   ]
  },
  {
   "cell_type": "markdown",
   "metadata": {
    "id": "IsZ-Q1uKpvFT"
   },
   "source": [
    "### Sinovac"
   ]
  },
  {
   "cell_type": "code",
   "execution_count": 73,
   "metadata": {
    "colab": {
     "base_uri": "https://localhost:8080/"
    },
    "id": "FWbFNZEgoZnX",
    "outputId": "6d634c24-1f37-4191-dccc-4ade334361cf"
   },
   "outputs": [
    {
     "name": "stdout",
     "output_type": "stream",
     "text": [
      "32\n"
     ]
    }
   ],
   "source": [
    "# Retrieve Class \"Vaccine\"\n",
    "search_tweets = api.search(q=\"vaksin sinovac\", count=100)\n",
    "count = 0\n",
    "for tweet in search_tweets:\n",
    "  tweet_list = []\n",
    "  if (tweet.lang == 'in' and (re.search(r'^RT @', tweet.text) == None)) :\n",
    "    tweet_list.extend([tweet.user.screen_name, tweet.text, tweet.created_at, 'vaccine'])\n",
    "    vaccine_tweets.append(tweet_list)\n",
    "    # print(tweet.user.screen_name, tweet.created_at, \":\\n\", tweet.text)\n",
    "    # print(\"------------------------------------------\")\n",
    "    count += 1\n",
    "print(count)"
   ]
  },
  {
   "cell_type": "markdown",
   "metadata": {
    "id": "Vd3oXJHXpwl2"
   },
   "source": [
    "### Sinopharm"
   ]
  },
  {
   "cell_type": "code",
   "execution_count": 74,
   "metadata": {
    "colab": {
     "base_uri": "https://localhost:8080/"
    },
    "id": "UY_PwBKQolEV",
    "outputId": "b09cc8f9-337a-4344-d26c-aa857a732c2c"
   },
   "outputs": [
    {
     "name": "stdout",
     "output_type": "stream",
     "text": [
      "41\n"
     ]
    }
   ],
   "source": [
    "# Retrieve Class \"Vaccine\"\n",
    "search_tweets = api.search(q=\"vaksin sinopharm\", count=100)\n",
    "count = 0\n",
    "for tweet in search_tweets:\n",
    "  tweet_list = []\n",
    "  if (tweet.lang == 'in' and (re.search(r'^RT @', tweet.text) == None)) :\n",
    "    tweet_list.extend([tweet.user.screen_name, tweet.text, tweet.created_at, 'vaccine'])\n",
    "    vaccine_tweets.append(tweet_list)\n",
    "    # print(tweet.user.screen_name, tweet.created_at, \":\\n\", tweet.text)\n",
    "    # print(\"------------------------------------------\")\n",
    "    count += 1\n",
    "print(count)"
   ]
  },
  {
   "cell_type": "markdown",
   "metadata": {
    "id": "wtH5g2Lhp0-1"
   },
   "source": [
    "## Pencegahan atau Pengobatan"
   ]
  },
  {
   "cell_type": "code",
   "execution_count": 76,
   "metadata": {
    "id": "SlXtOuL2sOsR"
   },
   "outputs": [],
   "source": [
    "pencegahanpengobatan_tweets = []"
   ]
  },
  {
   "cell_type": "code",
   "execution_count": 77,
   "metadata": {
    "colab": {
     "base_uri": "https://localhost:8080/"
    },
    "id": "jrWAXAevp5Zs",
    "outputId": "2bdb7abc-a161-41f1-9a4b-881177e871f6"
   },
   "outputs": [
    {
     "name": "stdout",
     "output_type": "stream",
     "text": [
      "54\n"
     ]
    }
   ],
   "source": [
    "# Retrieve Class \"Pencegahan atau Pengobatan\"\n",
    "search_tweets = api.search(q=\"pencegahan covid-19\", count=100)\n",
    "count = 0\n",
    "for tweet in search_tweets:\n",
    "  tweet_list = []\n",
    "  if (tweet.lang == 'in' and (re.search(r'^RT @', tweet.text) == None)) :\n",
    "    tweet_list.extend([tweet.user.screen_name, tweet.text, tweet.created_at, 'pencegahan atau pengobatan'])\n",
    "    pencegahanpengobatan_tweets.append(tweet_list)\n",
    "    # print(tweet.user.screen_name, tweet.created_at, \":\\n\", tweet.text)\n",
    "    # print(\"------------------------------------------\")\n",
    "    count += 1\n",
    "print(count)"
   ]
  },
  {
   "cell_type": "code",
   "execution_count": 78,
   "metadata": {
    "colab": {
     "base_uri": "https://localhost:8080/"
    },
    "id": "IlveKvMdqcYF",
    "outputId": "43001a37-aaef-488a-b049-98cca308efa9"
   },
   "outputs": [
    {
     "name": "stdout",
     "output_type": "stream",
     "text": [
      "26\n"
     ]
    }
   ],
   "source": [
    "# Retrieve Class \"Pencegahan atau Pengobatan\"\n",
    "search_tweets = api.search(q=\"pengobatan covid-19\", count=100)\n",
    "count = 0\n",
    "for tweet in search_tweets:\n",
    "  tweet_list = []\n",
    "  if (tweet.lang == 'in' and (re.search(r'^RT @', tweet.text) == None)) :\n",
    "    tweet_list.extend([tweet.user.screen_name, tweet.text, tweet.created_at, 'pencegahan atau pengobatan'])\n",
    "    pencegahanpengobatan_tweets.append(tweet_list)\n",
    "    # print(tweet.user.screen_name, tweet.created_at, \":\\n\", tweet.text)\n",
    "    # print(\"------------------------------------------\")\n",
    "    count += 1\n",
    "print(count)"
   ]
  },
  {
   "cell_type": "code",
   "execution_count": 81,
   "metadata": {
    "colab": {
     "base_uri": "https://localhost:8080/"
    },
    "id": "LmVbEFvgsan0",
    "outputId": "b66a0cda-6469-46ae-9330-c3d88687bf36"
   },
   "outputs": [
    {
     "name": "stdout",
     "output_type": "stream",
     "text": [
      "72\n"
     ]
    }
   ],
   "source": [
    "# Retrieve Class \"Pencegahan atau Pengobatan\"\n",
    "search_tweets = api.search(q=\"pencegahan corona\", count=100)\n",
    "count = 0\n",
    "for tweet in search_tweets:\n",
    "  tweet_list = []\n",
    "  if (tweet.lang == 'in' and (re.search(r'^RT @', tweet.text) == None)) :\n",
    "    tweet_list.extend([tweet.user.screen_name, tweet.text, tweet.created_at, 'pencegahan atau pengobatan'])\n",
    "    pencegahanpengobatan_tweets.append(tweet_list)\n",
    "    # print(tweet.user.screen_name, tweet.created_at, \":\\n\", tweet.text)\n",
    "    # print(\"------------------------------------------\")\n",
    "    count += 1\n",
    "print(count)"
   ]
  },
  {
   "cell_type": "code",
   "execution_count": 82,
   "metadata": {
    "colab": {
     "base_uri": "https://localhost:8080/"
    },
    "id": "Zwh_hHapszNP",
    "outputId": "320e70bd-84cb-4096-9b1f-9d54d0e26561"
   },
   "outputs": [
    {
     "name": "stdout",
     "output_type": "stream",
     "text": [
      "3\n"
     ]
    }
   ],
   "source": [
    "# Retrieve Class \"Pencegahan atau Pengobatan\"\n",
    "search_tweets = api.search(q=\"pengobatan corona\", count=100)\n",
    "count = 0\n",
    "for tweet in search_tweets:\n",
    "  tweet_list = []\n",
    "  if (tweet.lang == 'in' and (re.search(r'^RT @', tweet.text) == None)) :\n",
    "    tweet_list.extend([tweet.user.screen_name, tweet.text, tweet.created_at, 'pencegahan atau pengobatan'])\n",
    "    pencegahanpengobatan_tweets.append(tweet_list)\n",
    "    # print(tweet.user.screen_name, tweet.created_at, \":\\n\", tweet.text)\n",
    "    # print(\"------------------------------------------\")\n",
    "    count += 1\n",
    "print(count)"
   ]
  },
  {
   "cell_type": "markdown",
   "metadata": {
    "id": "TOu5dgHxsoNu"
   },
   "source": [
    "## Perkembangan Covid-19"
   ]
  },
  {
   "cell_type": "code",
   "execution_count": 80,
   "metadata": {
    "id": "c9cluOp8sqs-"
   },
   "outputs": [],
   "source": [
    "perkembangan_tweets = []"
   ]
  },
  {
   "cell_type": "code",
   "execution_count": 84,
   "metadata": {
    "colab": {
     "base_uri": "https://localhost:8080/"
    },
    "id": "O-tDfQF7s8dJ",
    "outputId": "5740f9a5-9631-4092-f143-61428fdec4ae"
   },
   "outputs": [
    {
     "name": "stdout",
     "output_type": "stream",
     "text": [
      "42\n"
     ]
    }
   ],
   "source": [
    "# Retrieve Class \"Perkembangan Covid-19\"\n",
    "search_tweets = api.search(q=\"perkembangan covid-19\", count=100)\n",
    "count = 0\n",
    "for tweet in search_tweets:\n",
    "  tweet_list = []\n",
    "  if (tweet.lang == 'in' and (re.search(r'^RT @', tweet.text) == None)) :\n",
    "    tweet_list.extend([tweet.user.screen_name, tweet.text, tweet.created_at, 'perkembangan covid-19'])\n",
    "    perkembangan_tweets.append(tweet_list)\n",
    "    # print(tweet.user.screen_name, tweet.created_at, \":\\n\", tweet.text)\n",
    "    # print(\"------------------------------------------\")\n",
    "    count += 1\n",
    "print(count)"
   ]
  },
  {
   "cell_type": "code",
   "execution_count": 85,
   "metadata": {
    "colab": {
     "base_uri": "https://localhost:8080/"
    },
    "id": "uEp2ZC_BtNxp",
    "outputId": "2fab53c4-13a6-49b3-cdea-b76ca1d8340d"
   },
   "outputs": [
    {
     "name": "stdout",
     "output_type": "stream",
     "text": [
      "18\n"
     ]
    }
   ],
   "source": [
    "# Retrieve Class \"Perkembangan Covid-19\"\n",
    "search_tweets = api.search(q=\"covid-19 di Indonesia\", count=100)\n",
    "count = 0\n",
    "for tweet in search_tweets:\n",
    "  tweet_list = []\n",
    "  if (tweet.lang == 'in' and (re.search(r'^RT @', tweet.text) == None)) :\n",
    "    tweet_list.extend([tweet.user.screen_name, tweet.text, tweet.created_at, 'perkembangan covid-19'])\n",
    "    perkembangan_tweets.append(tweet_list)\n",
    "    # print(tweet.user.screen_name, tweet.created_at, \":\\n\", tweet.text)\n",
    "    # print(\"------------------------------------------\")\n",
    "    count += 1\n",
    "print(count)"
   ]
  },
  {
   "cell_type": "code",
   "execution_count": 86,
   "metadata": {
    "colab": {
     "base_uri": "https://localhost:8080/"
    },
    "id": "ey-SHgamtQwW",
    "outputId": "e64c63de-18a6-4224-a89c-816ff5a24668"
   },
   "outputs": [
    {
     "name": "stdout",
     "output_type": "stream",
     "text": [
      "87\n"
     ]
    }
   ],
   "source": [
    "# Retrieve Class \"Perkembangan Covid-19\"\n",
    "search_tweets = api.search(q=\"covid-19 berkembang\", count=100)\n",
    "count = 0\n",
    "for tweet in search_tweets:\n",
    "  tweet_list = []\n",
    "  if (tweet.lang == 'in' and (re.search(r'^RT @', tweet.text) == None)) :\n",
    "    tweet_list.extend([tweet.user.screen_name, tweet.text, tweet.created_at, 'perkembangan covid-19'])\n",
    "    perkembangan_tweets.append(tweet_list)\n",
    "    # print(tweet.user.screen_name, tweet.created_at, \":\\n\", tweet.text)\n",
    "    # print(\"------------------------------------------\")\n",
    "    count += 1\n",
    "print(count)"
   ]
  },
  {
   "cell_type": "markdown",
   "metadata": {
    "id": "x3I3yWFXp-Du"
   },
   "source": [
    "# Save Data"
   ]
  },
  {
   "cell_type": "code",
   "execution_count": 75,
   "metadata": {
    "colab": {
     "base_uri": "https://localhost:8080/"
    },
    "id": "4DqWP0yxo2Bd",
    "outputId": "921bedd9-3185-42b0-bb14-4517119effb3"
   },
   "outputs": [
    {
     "data": {
      "text/plain": [
       "115"
      ]
     },
     "execution_count": 75,
     "metadata": {
      "tags": []
     },
     "output_type": "execute_result"
    }
   ],
   "source": [
    "len(vaccine_tweets) #Panjang Kelas Vaccine"
   ]
  },
  {
   "cell_type": "code",
   "execution_count": 83,
   "metadata": {
    "colab": {
     "base_uri": "https://localhost:8080/"
    },
    "id": "_PLC5l2Fqf2z",
    "outputId": "f93c1ca0-e6f5-4248-e49b-c0d9413a884b"
   },
   "outputs": [
    {
     "data": {
      "text/plain": [
       "155"
      ]
     },
     "execution_count": 83,
     "metadata": {
      "tags": []
     },
     "output_type": "execute_result"
    }
   ],
   "source": [
    "len(pencegahanpengobatan_tweets) #Panjang Kelas Pencegahan & Pengobatan"
   ]
  },
  {
   "cell_type": "code",
   "execution_count": 87,
   "metadata": {
    "colab": {
     "base_uri": "https://localhost:8080/"
    },
    "id": "SVU6H8oiqg4G",
    "outputId": "bc25953e-ec92-43f6-e669-60d853d25c9c"
   },
   "outputs": [
    {
     "data": {
      "text/plain": [
       "147"
      ]
     },
     "execution_count": 87,
     "metadata": {
      "tags": []
     },
     "output_type": "execute_result"
    }
   ],
   "source": [
    "len(perkembangan_tweets) #Panjang Kelas Perkembangan Covid-19"
   ]
  },
  {
   "cell_type": "code",
   "execution_count": 94,
   "metadata": {
    "colab": {
     "base_uri": "https://localhost:8080/"
    },
    "id": "ceGN13sGqzIL",
    "outputId": "6235ef85-9719-40ea-af0e-049f4f5a9a5f"
   },
   "outputs": [
    {
     "data": {
      "text/plain": [
       "417"
      ]
     },
     "execution_count": 94,
     "metadata": {
      "tags": []
     },
     "output_type": "execute_result"
    }
   ],
   "source": [
    "covid19_tweets = []\n",
    "covid19_tweets = vaccine_tweets + pencegahanpengobatan_tweets + perkembangan_tweets\n",
    "len(covid19_tweets) # Total Data"
   ]
  },
  {
   "cell_type": "code",
   "execution_count": 96,
   "metadata": {
    "colab": {
     "base_uri": "https://localhost:8080/",
     "height": 204
    },
    "id": "bmdgGRxuo5D3",
    "outputId": "d6ac66a3-3761-4a84-ccfb-32677b27810f"
   },
   "outputs": [
    {
     "data": {
      "text/html": [
       "<div>\n",
       "<style scoped>\n",
       "    .dataframe tbody tr th:only-of-type {\n",
       "        vertical-align: middle;\n",
       "    }\n",
       "\n",
       "    .dataframe tbody tr th {\n",
       "        vertical-align: top;\n",
       "    }\n",
       "\n",
       "    .dataframe thead th {\n",
       "        text-align: right;\n",
       "    }\n",
       "</style>\n",
       "<table border=\"1\" class=\"dataframe\">\n",
       "  <thead>\n",
       "    <tr style=\"text-align: right;\">\n",
       "      <th></th>\n",
       "      <th>username</th>\n",
       "      <th>tweet</th>\n",
       "      <th>date</th>\n",
       "      <th>class</th>\n",
       "    </tr>\n",
       "  </thead>\n",
       "  <tbody>\n",
       "    <tr>\n",
       "      <th>0</th>\n",
       "      <td>Menlu_RI</td>\n",
       "      <td>Ketiga jenis vaksin yang digunakan Indonesia, ...</td>\n",
       "      <td>2021-06-10 16:08:53</td>\n",
       "      <td>vaccine</td>\n",
       "    </tr>\n",
       "    <tr>\n",
       "      <th>1</th>\n",
       "      <td>Menlu_RI</td>\n",
       "      <td>Alhamdullilah pada malam ini, Indonesia kembal...</td>\n",
       "      <td>2021-06-10 16:08:53</td>\n",
       "      <td>vaccine</td>\n",
       "    </tr>\n",
       "    <tr>\n",
       "      <th>2</th>\n",
       "      <td>kumparan</td>\n",
       "      <td>Menteri Luar Negeri Retno Marsudi mengatakan, ...</td>\n",
       "      <td>2021-06-10 16:08:34</td>\n",
       "      <td>vaccine</td>\n",
       "    </tr>\n",
       "    <tr>\n",
       "      <th>3</th>\n",
       "      <td>kompascom</td>\n",
       "      <td>Dengan penambahan 1,5 juta dosis vaksin AstraZ...</td>\n",
       "      <td>2021-06-10 16:07:03</td>\n",
       "      <td>vaccine</td>\n",
       "    </tr>\n",
       "    <tr>\n",
       "      <th>4</th>\n",
       "      <td>AlbertSolo2</td>\n",
       "      <td>Indonesia Kedatangan 1,5 Juta Dosis Vaksin Ast...</td>\n",
       "      <td>2021-06-10 16:06:31</td>\n",
       "      <td>vaccine</td>\n",
       "    </tr>\n",
       "  </tbody>\n",
       "</table>\n",
       "</div>"
      ],
      "text/plain": [
       "      username  ...    class\n",
       "0     Menlu_RI  ...  vaccine\n",
       "1     Menlu_RI  ...  vaccine\n",
       "2     kumparan  ...  vaccine\n",
       "3    kompascom  ...  vaccine\n",
       "4  AlbertSolo2  ...  vaccine\n",
       "\n",
       "[5 rows x 4 columns]"
      ]
     },
     "execution_count": 96,
     "metadata": {
      "tags": []
     },
     "output_type": "execute_result"
    }
   ],
   "source": [
    "import pandas as pd\n",
    "\n",
    "df = pd.DataFrame(covid19_tweets, columns = ['username', 'tweet', 'date', 'class'])\n",
    "df.head()"
   ]
  },
  {
   "cell_type": "code",
   "execution_count": 103,
   "metadata": {
    "id": "ozs0fs3Gu0bG"
   },
   "outputs": [],
   "source": [
    "df.to_csv('covid19_tweets.csv') # Save to covid19_tweets.csv"
   ]
  },
  {
   "cell_type": "markdown",
   "metadata": {
    "id": "lnkM4mDeyszd"
   },
   "source": [
    "# Data Preprocessing"
   ]
  },
  {
   "cell_type": "code",
   "execution_count": 219,
   "metadata": {
    "colab": {
     "base_uri": "https://localhost:8080/"
    },
    "id": "yVvQOL6h1Kur",
    "outputId": "58e212d4-ccf1-4b2c-bf19-616338060145"
   },
   "outputs": [
    {
     "name": "stdout",
     "output_type": "stream",
     "text": [
      "Drive already mounted at /gdrive; to attempt to forcibly remount, call drive.mount(\"/gdrive\", force_remount=True).\n"
     ]
    }
   ],
   "source": [
    "from google.colab import drive\n",
    "\n",
    "drive.mount('/gdrive')"
   ]
  },
  {
   "cell_type": "code",
   "execution_count": 220,
   "metadata": {
    "id": "fK2YaSRKy2ms"
   },
   "outputs": [],
   "source": [
    "df = pd.read_csv('%s/covid19_tweets.csv' % path)"
   ]
  },
  {
   "cell_type": "code",
   "execution_count": 221,
   "metadata": {
    "colab": {
     "base_uri": "https://localhost:8080/",
     "height": 204
    },
    "id": "Eidtoxzs2udO",
    "outputId": "7bebaffe-2cd0-43e2-8257-514fe6af31d2"
   },
   "outputs": [
    {
     "data": {
      "text/html": [
       "<div>\n",
       "<style scoped>\n",
       "    .dataframe tbody tr th:only-of-type {\n",
       "        vertical-align: middle;\n",
       "    }\n",
       "\n",
       "    .dataframe tbody tr th {\n",
       "        vertical-align: top;\n",
       "    }\n",
       "\n",
       "    .dataframe thead th {\n",
       "        text-align: right;\n",
       "    }\n",
       "</style>\n",
       "<table border=\"1\" class=\"dataframe\">\n",
       "  <thead>\n",
       "    <tr style=\"text-align: right;\">\n",
       "      <th></th>\n",
       "      <th>Unnamed: 0</th>\n",
       "      <th>username</th>\n",
       "      <th>tweet</th>\n",
       "      <th>date</th>\n",
       "      <th>class</th>\n",
       "    </tr>\n",
       "  </thead>\n",
       "  <tbody>\n",
       "    <tr>\n",
       "      <th>0</th>\n",
       "      <td>0</td>\n",
       "      <td>Menlu_RI</td>\n",
       "      <td>Ketiga jenis vaksin yang digunakan Indonesia, ...</td>\n",
       "      <td>2021-06-10 16:08:53</td>\n",
       "      <td>vaccine</td>\n",
       "    </tr>\n",
       "    <tr>\n",
       "      <th>1</th>\n",
       "      <td>1</td>\n",
       "      <td>Menlu_RI</td>\n",
       "      <td>Alhamdullilah pada malam ini, Indonesia kembal...</td>\n",
       "      <td>2021-06-10 16:08:53</td>\n",
       "      <td>vaccine</td>\n",
       "    </tr>\n",
       "    <tr>\n",
       "      <th>2</th>\n",
       "      <td>2</td>\n",
       "      <td>kumparan</td>\n",
       "      <td>Menteri Luar Negeri Retno Marsudi mengatakan, ...</td>\n",
       "      <td>2021-06-10 16:08:34</td>\n",
       "      <td>vaccine</td>\n",
       "    </tr>\n",
       "    <tr>\n",
       "      <th>3</th>\n",
       "      <td>3</td>\n",
       "      <td>kompascom</td>\n",
       "      <td>Dengan penambahan 1,5 juta dosis vaksin AstraZ...</td>\n",
       "      <td>2021-06-10 16:07:03</td>\n",
       "      <td>vaccine</td>\n",
       "    </tr>\n",
       "    <tr>\n",
       "      <th>4</th>\n",
       "      <td>4</td>\n",
       "      <td>AlbertSolo2</td>\n",
       "      <td>Indonesia Kedatangan 1,5 Juta Dosis Vaksin Ast...</td>\n",
       "      <td>2021-06-10 16:06:31</td>\n",
       "      <td>vaccine</td>\n",
       "    </tr>\n",
       "  </tbody>\n",
       "</table>\n",
       "</div>"
      ],
      "text/plain": [
       "   Unnamed: 0     username  ...                 date    class\n",
       "0           0     Menlu_RI  ...  2021-06-10 16:08:53  vaccine\n",
       "1           1     Menlu_RI  ...  2021-06-10 16:08:53  vaccine\n",
       "2           2     kumparan  ...  2021-06-10 16:08:34  vaccine\n",
       "3           3    kompascom  ...  2021-06-10 16:07:03  vaccine\n",
       "4           4  AlbertSolo2  ...  2021-06-10 16:06:31  vaccine\n",
       "\n",
       "[5 rows x 5 columns]"
      ]
     },
     "execution_count": 221,
     "metadata": {
      "tags": []
     },
     "output_type": "execute_result"
    }
   ],
   "source": [
    "df.head()"
   ]
  },
  {
   "cell_type": "code",
   "execution_count": 222,
   "metadata": {
    "colab": {
     "base_uri": "https://localhost:8080/"
    },
    "id": "JHgluoWT2yhl",
    "outputId": "9bd8fff3-36ca-497c-b374-d6200be1df3f"
   },
   "outputs": [
    {
     "name": "stdout",
     "output_type": "stream",
     "text": [
      "<class 'pandas.core.frame.DataFrame'>\n",
      "RangeIndex: 417 entries, 0 to 416\n",
      "Data columns (total 5 columns):\n",
      " #   Column      Non-Null Count  Dtype \n",
      "---  ------      --------------  ----- \n",
      " 0   Unnamed: 0  417 non-null    int64 \n",
      " 1   username    417 non-null    object\n",
      " 2   tweet       417 non-null    object\n",
      " 3   date        417 non-null    object\n",
      " 4   class       417 non-null    object\n",
      "dtypes: int64(1), object(4)\n",
      "memory usage: 16.4+ KB\n"
     ]
    }
   ],
   "source": [
    "df.info()"
   ]
  },
  {
   "cell_type": "code",
   "execution_count": 223,
   "metadata": {
    "colab": {
     "base_uri": "https://localhost:8080/",
     "height": 173
    },
    "id": "4X1KGBVU4YZ_",
    "outputId": "29810302-3ee0-4db3-b578-658500d49252"
   },
   "outputs": [
    {
     "data": {
      "text/html": [
       "<div>\n",
       "<style scoped>\n",
       "    .dataframe tbody tr th:only-of-type {\n",
       "        vertical-align: middle;\n",
       "    }\n",
       "\n",
       "    .dataframe tbody tr th {\n",
       "        vertical-align: top;\n",
       "    }\n",
       "\n",
       "    .dataframe thead th {\n",
       "        text-align: right;\n",
       "    }\n",
       "</style>\n",
       "<table border=\"1\" class=\"dataframe\">\n",
       "  <thead>\n",
       "    <tr style=\"text-align: right;\">\n",
       "      <th></th>\n",
       "      <th>Unnamed: 0</th>\n",
       "      <th>username</th>\n",
       "      <th>tweet</th>\n",
       "      <th>date</th>\n",
       "    </tr>\n",
       "    <tr>\n",
       "      <th>class</th>\n",
       "      <th></th>\n",
       "      <th></th>\n",
       "      <th></th>\n",
       "      <th></th>\n",
       "    </tr>\n",
       "  </thead>\n",
       "  <tbody>\n",
       "    <tr>\n",
       "      <th>pencegahan atau pengobatan</th>\n",
       "      <td>155</td>\n",
       "      <td>155</td>\n",
       "      <td>155</td>\n",
       "      <td>155</td>\n",
       "    </tr>\n",
       "    <tr>\n",
       "      <th>perkembangan covid-19</th>\n",
       "      <td>147</td>\n",
       "      <td>147</td>\n",
       "      <td>147</td>\n",
       "      <td>147</td>\n",
       "    </tr>\n",
       "    <tr>\n",
       "      <th>vaccine</th>\n",
       "      <td>115</td>\n",
       "      <td>115</td>\n",
       "      <td>115</td>\n",
       "      <td>115</td>\n",
       "    </tr>\n",
       "  </tbody>\n",
       "</table>\n",
       "</div>"
      ],
      "text/plain": [
       "                            Unnamed: 0  username  tweet  date\n",
       "class                                                        \n",
       "pencegahan atau pengobatan         155       155    155   155\n",
       "perkembangan covid-19              147       147    147   147\n",
       "vaccine                            115       115    115   115"
      ]
     },
     "execution_count": 223,
     "metadata": {
      "tags": []
     },
     "output_type": "execute_result"
    }
   ],
   "source": [
    "df.groupby('class').count()"
   ]
  },
  {
   "cell_type": "code",
   "execution_count": 224,
   "metadata": {
    "colab": {
     "base_uri": "https://localhost:8080/",
     "height": 401
    },
    "id": "uarxuqwNxVmT",
    "outputId": "3a906154-ce12-4cef-d66e-d2de1433c56e"
   },
   "outputs": [
    {
     "data": {
      "text/plain": [
       "[Text(0, 0, 'vaccine'),\n",
       " Text(0, 0, 'pencegahan atau pengobatan'),\n",
       " Text(0, 0, 'perkembangan covid-19')]"
      ]
     },
     "execution_count": 224,
     "metadata": {
      "tags": []
     },
     "output_type": "execute_result"
    },
    {
     "data": {
      "image/png": "[encoded data removed]",
      "text/plain": [
       "<Figure size 720x360 with 1 Axes>"
      ]
     },
     "metadata": {
      "needs_background": "light",
      "tags": []
     },
     "output_type": "display_data"
    }
   ],
   "source": [
    "import matplotlib.pyplot as plt\n",
    "import seaborn as sns\n",
    "\n",
    "fig, ax = plt.subplots(figsize=(10,5))\n",
    "chart = sns.countplot(x='class', data=df, ax = ax)\n",
    "chart.set_xticklabels(chart.get_xticklabels(), rotation=5)"
   ]
  },
  {
   "cell_type": "markdown",
   "metadata": {
    "id": "nyFLi6gY4KMQ"
   },
   "source": [
    "## Remove hashtag, @user, link of a tweet"
   ]
  },
  {
   "cell_type": "code",
   "execution_count": 225,
   "metadata": {
    "id": "MjNQrTHD3aXl"
   },
   "outputs": [],
   "source": [
    "new_tweets = []\n",
    "for i in df['tweet'].values :\n",
    "  modified = ' '.join(re.sub(\"(@[A-Za-z0-9]+)|([^0-9A-Za-z \\t])|(\\w+:\\/\\/\\S+)\",\" \",i).split())\n",
    "  new_tweets.append(modified)"
   ]
  },
  {
   "cell_type": "code",
   "execution_count": 226,
   "metadata": {
    "colab": {
     "base_uri": "https://localhost:8080/",
     "height": 204
    },
    "id": "SA0-pkME45_S",
    "outputId": "16a06b76-3075-4bab-eaa1-e20ac4972d7c"
   },
   "outputs": [
    {
     "data": {
      "text/html": [
       "<div>\n",
       "<style scoped>\n",
       "    .dataframe tbody tr th:only-of-type {\n",
       "        vertical-align: middle;\n",
       "    }\n",
       "\n",
       "    .dataframe tbody tr th {\n",
       "        vertical-align: top;\n",
       "    }\n",
       "\n",
       "    .dataframe thead th {\n",
       "        text-align: right;\n",
       "    }\n",
       "</style>\n",
       "<table border=\"1\" class=\"dataframe\">\n",
       "  <thead>\n",
       "    <tr style=\"text-align: right;\">\n",
       "      <th></th>\n",
       "      <th>Unnamed: 0</th>\n",
       "      <th>username</th>\n",
       "      <th>tweet</th>\n",
       "      <th>date</th>\n",
       "      <th>class</th>\n",
       "    </tr>\n",
       "  </thead>\n",
       "  <tbody>\n",
       "    <tr>\n",
       "      <th>0</th>\n",
       "      <td>0</td>\n",
       "      <td>Menlu_RI</td>\n",
       "      <td>Ketiga jenis vaksin yang digunakan Indonesia S...</td>\n",
       "      <td>2021-06-10 16:08:53</td>\n",
       "      <td>vaccine</td>\n",
       "    </tr>\n",
       "    <tr>\n",
       "      <th>1</th>\n",
       "      <td>1</td>\n",
       "      <td>Menlu_RI</td>\n",
       "      <td>Alhamdullilah pada malam ini Indonesia kembali...</td>\n",
       "      <td>2021-06-10 16:08:53</td>\n",
       "      <td>vaccine</td>\n",
       "    </tr>\n",
       "    <tr>\n",
       "      <th>2</th>\n",
       "      <td>2</td>\n",
       "      <td>kumparan</td>\n",
       "      <td>Menteri Luar Negeri Retno Marsudi mengatakan v...</td>\n",
       "      <td>2021-06-10 16:08:34</td>\n",
       "      <td>vaccine</td>\n",
       "    </tr>\n",
       "    <tr>\n",
       "      <th>3</th>\n",
       "      <td>3</td>\n",
       "      <td>kompascom</td>\n",
       "      <td>Dengan penambahan 1 5 juta dosis vaksin AstraZ...</td>\n",
       "      <td>2021-06-10 16:07:03</td>\n",
       "      <td>vaccine</td>\n",
       "    </tr>\n",
       "    <tr>\n",
       "      <th>4</th>\n",
       "      <td>4</td>\n",
       "      <td>AlbertSolo2</td>\n",
       "      <td>Indonesia Kedatangan 1 5 Juta Dosis Vaksin Ast...</td>\n",
       "      <td>2021-06-10 16:06:31</td>\n",
       "      <td>vaccine</td>\n",
       "    </tr>\n",
       "  </tbody>\n",
       "</table>\n",
       "</div>"
      ],
      "text/plain": [
       "   Unnamed: 0     username  ...                 date    class\n",
       "0           0     Menlu_RI  ...  2021-06-10 16:08:53  vaccine\n",
       "1           1     Menlu_RI  ...  2021-06-10 16:08:53  vaccine\n",
       "2           2     kumparan  ...  2021-06-10 16:08:34  vaccine\n",
       "3           3    kompascom  ...  2021-06-10 16:07:03  vaccine\n",
       "4           4  AlbertSolo2  ...  2021-06-10 16:06:31  vaccine\n",
       "\n",
       "[5 rows x 5 columns]"
      ]
     },
     "execution_count": 226,
     "metadata": {
      "tags": []
     },
     "output_type": "execute_result"
    }
   ],
   "source": [
    "df['tweet'] = new_tweets\n",
    "df.head()"
   ]
  },
  {
   "cell_type": "markdown",
   "metadata": {
    "id": "HBLOs-g76vq7"
   },
   "source": [
    "## Train TF-IDF Vectorizer"
   ]
  },
  {
   "cell_type": "code",
   "execution_count": 227,
   "metadata": {
    "colab": {
     "base_uri": "https://localhost:8080/"
    },
    "id": "YLTRRk7b5mRS",
    "outputId": "7c8e74bc-c0e8-4e10-9b58-b3e0efde4ad4"
   },
   "outputs": [
    {
     "name": "stdout",
     "output_type": "stream",
     "text": [
      "['yang', 'untuk', 'pada', 'ke', 'para', 'namun', 'menurut', 'antara', 'dia', 'dua', 'ia', 'seperti', 'jika', 'jika', 'sehingga', 'kembali', 'dan', 'tidak', 'ini', 'karena', 'kepada', 'oleh', 'saat', 'harus', 'sementara', 'setelah', 'belum', 'kami', 'sekitar', 'bagi', 'serta', 'di', 'dari', 'telah', 'sebagai', 'masih', 'hal', 'ketika', 'adalah', 'itu', 'dalam', 'bisa', 'bahwa', 'atau', 'hanya', 'kita', 'dengan', 'akan', 'juga', 'ada', 'mereka', 'sudah', 'saya', 'terhadap', 'secara', 'agar', 'lain', 'anda', 'begitu', 'mengapa', 'kenapa', 'yaitu', 'yakni', 'daripada', 'itulah', 'lagi', 'maka', 'tentang', 'demi', 'dimana', 'kemana', 'pula', 'sambil', 'sebelum', 'sesudah', 'supaya', 'guna', 'kah', 'pun', 'sampai', 'sedangkan', 'selagi', 'sementara', 'tetapi', 'apakah', 'kecuali', 'sebab', 'selain', 'seolah', 'seraya', 'seterusnya', 'tanpa', 'agak', 'boleh', 'dapat', 'dsb', 'dst', 'dll', 'dahulu', 'dulunya', 'anu', 'demikian', 'tapi', 'ingin', 'juga', 'nggak', 'mari', 'nanti', 'melainkan', 'oh', 'ok', 'seharusnya', 'sebetulnya', 'setiap', 'setidaknya', 'sesuatu', 'pasti', 'saja', 'toh', 'ya', 'walau', 'tolong', 'tentu', 'amat', 'apalagi', 'bagaimanapun']\n"
     ]
    }
   ],
   "source": [
    "from Sastrawi.StopWordRemover.StopWordRemoverFactory import StopWordRemoverFactory\n",
    " \n",
    "factory = StopWordRemoverFactory()\n",
    "stopwords = factory.get_stop_words()\n",
    "print(stopwords)"
   ]
  },
  {
   "cell_type": "code",
   "execution_count": 228,
   "metadata": {
    "id": "itp4nbAT5MmM"
   },
   "outputs": [],
   "source": [
    "from sklearn.feature_extraction.text import TfidfVectorizer\n",
    "\n",
    "vectorizer = TfidfVectorizer(stop_words = stopwords)\n",
    "features = vectorizer.fit_transform(df['tweet'].values)"
   ]
  },
  {
   "cell_type": "markdown",
   "metadata": {
    "id": "CDxymakI7LmX"
   },
   "source": [
    "## Label Encoder"
   ]
  },
  {
   "cell_type": "code",
   "execution_count": 229,
   "metadata": {
    "id": "HIT74_HQ7M7e"
   },
   "outputs": [],
   "source": [
    "from sklearn.preprocessing import LabelEncoder\n",
    "\n",
    "le = LabelEncoder()\n",
    "df['class'] = le.fit_transform(df['class'].values)"
   ]
  },
  {
   "cell_type": "code",
   "execution_count": 230,
   "metadata": {
    "colab": {
     "base_uri": "https://localhost:8080/"
    },
    "id": "HWbdfXfy7j20",
    "outputId": "a7c2ee98-a96a-4b4a-a4ee-06fa561a2eda"
   },
   "outputs": [
    {
     "data": {
      "text/plain": [
       "array(['pencegahan atau pengobatan', 'perkembangan covid-19', 'vaccine'],\n",
       "      dtype=object)"
      ]
     },
     "execution_count": 230,
     "metadata": {
      "tags": []
     },
     "output_type": "execute_result"
    }
   ],
   "source": [
    "le.classes_"
   ]
  },
  {
   "cell_type": "code",
   "execution_count": 231,
   "metadata": {
    "colab": {
     "base_uri": "https://localhost:8080/",
     "height": 204
    },
    "id": "vec5GPUl7cNN",
    "outputId": "8c967a24-8adc-4dd0-c756-ff3ada36c0fa"
   },
   "outputs": [
    {
     "data": {
      "text/html": [
       "<div>\n",
       "<style scoped>\n",
       "    .dataframe tbody tr th:only-of-type {\n",
       "        vertical-align: middle;\n",
       "    }\n",
       "\n",
       "    .dataframe tbody tr th {\n",
       "        vertical-align: top;\n",
       "    }\n",
       "\n",
       "    .dataframe thead th {\n",
       "        text-align: right;\n",
       "    }\n",
       "</style>\n",
       "<table border=\"1\" class=\"dataframe\">\n",
       "  <thead>\n",
       "    <tr style=\"text-align: right;\">\n",
       "      <th></th>\n",
       "      <th>Unnamed: 0</th>\n",
       "      <th>username</th>\n",
       "      <th>tweet</th>\n",
       "      <th>date</th>\n",
       "      <th>class</th>\n",
       "    </tr>\n",
       "  </thead>\n",
       "  <tbody>\n",
       "    <tr>\n",
       "      <th>0</th>\n",
       "      <td>0</td>\n",
       "      <td>Menlu_RI</td>\n",
       "      <td>Ketiga jenis vaksin yang digunakan Indonesia S...</td>\n",
       "      <td>2021-06-10 16:08:53</td>\n",
       "      <td>2</td>\n",
       "    </tr>\n",
       "    <tr>\n",
       "      <th>1</th>\n",
       "      <td>1</td>\n",
       "      <td>Menlu_RI</td>\n",
       "      <td>Alhamdullilah pada malam ini Indonesia kembali...</td>\n",
       "      <td>2021-06-10 16:08:53</td>\n",
       "      <td>2</td>\n",
       "    </tr>\n",
       "    <tr>\n",
       "      <th>2</th>\n",
       "      <td>2</td>\n",
       "      <td>kumparan</td>\n",
       "      <td>Menteri Luar Negeri Retno Marsudi mengatakan v...</td>\n",
       "      <td>2021-06-10 16:08:34</td>\n",
       "      <td>2</td>\n",
       "    </tr>\n",
       "    <tr>\n",
       "      <th>3</th>\n",
       "      <td>3</td>\n",
       "      <td>kompascom</td>\n",
       "      <td>Dengan penambahan 1 5 juta dosis vaksin AstraZ...</td>\n",
       "      <td>2021-06-10 16:07:03</td>\n",
       "      <td>2</td>\n",
       "    </tr>\n",
       "    <tr>\n",
       "      <th>4</th>\n",
       "      <td>4</td>\n",
       "      <td>AlbertSolo2</td>\n",
       "      <td>Indonesia Kedatangan 1 5 Juta Dosis Vaksin Ast...</td>\n",
       "      <td>2021-06-10 16:06:31</td>\n",
       "      <td>2</td>\n",
       "    </tr>\n",
       "  </tbody>\n",
       "</table>\n",
       "</div>"
      ],
      "text/plain": [
       "   Unnamed: 0     username  ...                 date class\n",
       "0           0     Menlu_RI  ...  2021-06-10 16:08:53     2\n",
       "1           1     Menlu_RI  ...  2021-06-10 16:08:53     2\n",
       "2           2     kumparan  ...  2021-06-10 16:08:34     2\n",
       "3           3    kompascom  ...  2021-06-10 16:07:03     2\n",
       "4           4  AlbertSolo2  ...  2021-06-10 16:06:31     2\n",
       "\n",
       "[5 rows x 5 columns]"
      ]
     },
     "execution_count": 231,
     "metadata": {
      "tags": []
     },
     "output_type": "execute_result"
    }
   ],
   "source": [
    "df.head()"
   ]
  },
  {
   "cell_type": "markdown",
   "metadata": {
    "id": "XGJ564LU8AZZ"
   },
   "source": [
    "## Split Data Train & Test"
   ]
  },
  {
   "cell_type": "code",
   "execution_count": 232,
   "metadata": {
    "id": "s3PRCkJ97sh9"
   },
   "outputs": [],
   "source": [
    "from sklearn.model_selection import train_test_split\n",
    "\n",
    "x_train, x_test, y_train, y_test = train_test_split(df['tweet'].values, df['class'].values, test_size = 0.2, random_state = 0)"
   ]
  },
  {
   "cell_type": "markdown",
   "metadata": {
    "id": "L7r5Sb_g8aMr"
   },
   "source": [
    "# Train Naive Bayes Model"
   ]
  },
  {
   "cell_type": "markdown",
   "metadata": {
    "id": "2WR6kWSP96Cg"
   },
   "source": [
    "## Convert Tweets to Vector"
   ]
  },
  {
   "cell_type": "code",
   "execution_count": 233,
   "metadata": {
    "id": "7t3qb2in8h66"
   },
   "outputs": [],
   "source": [
    "x_train = vectorizer.transform(x_train).toarray()\n",
    "x_test = vectorizer.transform(x_test).toarray()"
   ]
  },
  {
   "cell_type": "code",
   "execution_count": 234,
   "metadata": {
    "colab": {
     "base_uri": "https://localhost:8080/"
    },
    "id": "_mKAPGbX9q9k",
    "outputId": "b3043f99-045c-4596-c05f-e83d1c61bb60"
   },
   "outputs": [
    {
     "data": {
      "text/plain": [
       "(333, 1615)"
      ]
     },
     "execution_count": 234,
     "metadata": {
      "tags": []
     },
     "output_type": "execute_result"
    }
   ],
   "source": [
    "x_train.shape"
   ]
  },
  {
   "cell_type": "markdown",
   "metadata": {
    "id": "7YEZxltI-DHx"
   },
   "source": [
    "## Train Multinomial Naive Bayes Model"
   ]
  },
  {
   "cell_type": "code",
   "execution_count": 235,
   "metadata": {
    "id": "kOehWLwd8Obg"
   },
   "outputs": [],
   "source": [
    "from sklearn.naive_bayes import MultinomialNB\n",
    "\n",
    "MNB_model = MultinomialNB()\n",
    "MNB_model.fit(x_train, y_train)\n",
    "y_pred = MNB_model.predict(x_test)"
   ]
  },
  {
   "cell_type": "markdown",
   "metadata": {
    "id": "jT7pxITs-io4"
   },
   "source": [
    "## Save Model"
   ]
  },
  {
   "cell_type": "code",
   "execution_count": 196,
   "metadata": {
    "id": "OcbZFJYM-jq8"
   },
   "outputs": [],
   "source": [
    "import pickle\n",
    "\n",
    "pickle.dump(MNB_model, open(\"%s/MNB_model.sav\" % path, 'wb'))"
   ]
  },
  {
   "cell_type": "markdown",
   "metadata": {
    "id": "DP4usHNS-Hup"
   },
   "source": [
    "# Calculate Performance"
   ]
  },
  {
   "cell_type": "markdown",
   "metadata": {
    "id": "k4GlrI_T_cmY"
   },
   "source": [
    "## Confusion Matrix"
   ]
  },
  {
   "cell_type": "code",
   "execution_count": 236,
   "metadata": {
    "colab": {
     "base_uri": "https://localhost:8080/",
     "height": 569
    },
    "id": "m_8AzdPm-fFg",
    "outputId": "b6505632-8c59-409f-eff7-915b1fa915e1"
   },
   "outputs": [
    {
     "data": {
      "text/plain": [
       "Text(66.47999999999999, 0.5, 'Actual Class')"
      ]
     },
     "execution_count": 236,
     "metadata": {
      "tags": []
     },
     "output_type": "execute_result"
    },
    {
     "data": {
      "image/png": "[encoded data removed]",
      "text/plain": [
       "<Figure size 648x648 with 1 Axes>"
      ]
     },
     "metadata": {
      "needs_background": "light",
      "tags": []
     },
     "output_type": "display_data"
    }
   ],
   "source": [
    "from sklearn.metrics import confusion_matrix\n",
    "\n",
    "conf_mat = confusion_matrix(y_test, y_pred)\n",
    "ax = plt.subplots(figsize=(9, 9))\n",
    "ax = sns.heatmap(conf_mat, square = True, annot=True, fmt = 'd', cmap=\"YlGnBu\", xticklabels = le.classes_, yticklabels = le.classes_, cbar = False)\n",
    "plt.xlabel(\"Predicted Class\")\n",
    "plt.ylabel(\"Actual Class\")\n",
    "plt.savefig('%s/conf_mat.png' % path, dpi=fig.dpi)"
   ]
  },
  {
   "cell_type": "markdown",
   "metadata": {
    "id": "w8vhr_Ku_e6O"
   },
   "source": [
    "## Accuracy Score"
   ]
  },
  {
   "cell_type": "code",
   "execution_count": 237,
   "metadata": {
    "colab": {
     "base_uri": "https://localhost:8080/"
    },
    "id": "AHCrlJE78Zl3",
    "outputId": "082d019d-42ea-4ad7-f08e-d8220a17c1a3"
   },
   "outputs": [
    {
     "name": "stdout",
     "output_type": "stream",
     "text": [
      "Nilai akurasi    :  0.9285714285714286\n"
     ]
    }
   ],
   "source": [
    "from sklearn.metrics import accuracy_score, classification_report\n",
    "\n",
    "print(\"Nilai akurasi    : \", accuracy_score(y_test, y_pred))"
   ]
  },
  {
   "cell_type": "markdown",
   "metadata": {
    "id": "Tl0bgabs_i7U"
   },
   "source": [
    "## Classification Report"
   ]
  },
  {
   "cell_type": "code",
   "execution_count": 238,
   "metadata": {
    "colab": {
     "base_uri": "https://localhost:8080/"
    },
    "id": "vdjftpJW-YmF",
    "outputId": "3a44036d-060f-42b9-b8e2-3fbaa03671e1"
   },
   "outputs": [
    {
     "name": "stdout",
     "output_type": "stream",
     "text": [
      "                            precision    recall  f1-score   support\n",
      "\n",
      "pencegahan atau pengobatan       0.90      0.93      0.91        28\n",
      "     perkembangan covid-19       0.97      0.90      0.93        31\n",
      "                   vaccine       0.92      0.96      0.94        25\n",
      "\n",
      "                  accuracy                           0.93        84\n",
      "                 macro avg       0.93      0.93      0.93        84\n",
      "              weighted avg       0.93      0.93      0.93        84\n",
      "\n"
     ]
    }
   ],
   "source": [
    "print(classification_report(y_test, y_pred, target_names=le.classes_))"
   ]
  },
  {
   "cell_type": "markdown",
   "metadata": {
    "id": "tJ30YLhjJjRO"
   },
   "source": [
    "# Predict Sentence"
   ]
  },
  {
   "cell_type": "code",
   "execution_count": 250,
   "metadata": {
    "colab": {
     "base_uri": "https://localhost:8080/"
    },
    "id": "9BWKIi2QJf5d",
    "outputId": "95981c5f-50fc-468f-81db-d476f1bf3a71"
   },
   "outputs": [
    {
     "name": "stdout",
     "output_type": "stream",
     "text": [
      "Sentence        : Angka pertumbuhan covid-19 di Indonesia semakin tinggi\n",
      "Class Predicted : perkembangan covid-19\n"
     ]
    }
   ],
   "source": [
    "sentence = \"Angka pertumbuhan covid-19 di Indonesia semakin tinggi\"\n",
    "sentence_vector = vectorizer.transform([sentence])\n",
    "print(\"Sentence        :\", sentence)\n",
    "print(\"Class Predicted :\", le.classes_[MNB_model.predict(sentence_vector)[0]])"
   ]
  },
  {
   "cell_type": "code",
   "execution_count": 253,
   "metadata": {
    "colab": {
     "base_uri": "https://localhost:8080/"
    },
    "id": "wcVkhkgWKyOP",
    "outputId": "c5b3883a-340b-4052-e2a2-67b96ca9058b"
   },
   "outputs": [
    {
     "name": "stdout",
     "output_type": "stream",
     "text": [
      "Sentence        : Indonesia Kembali Kedatangan 1.504.800 Vaksin AstraZeneca\n",
      "Class Predicted : vaccine\n"
     ]
    }
   ],
   "source": [
    "sentence = \"Indonesia Kembali Kedatangan 1.504.800 Vaksin AstraZeneca\"\n",
    "sentence_vector = vectorizer.transform([sentence])\n",
    "print(\"Sentence        :\", sentence)\n",
    "print(\"Class Predicted :\", le.classes_[MNB_model.predict(sentence_vector)[0]])"
   ]
  }
 ],
 "metadata": {
  "colab": {
   "authorship_tag": "ABX9TyNApBc52LXR+7by4Ir5whoJ",
   "collapsed_sections": [],
   "include_colab_link": true,
   "name": "pba_tugas klasifikasi tweet covid-19.ipynb",
   "provenance": [],
   "toc_visible": true
  },
  "kernelspec": {
   "display_name": "Python 3 (ipykernel)",
   "language": "python",
   "name": "python3"
  },
  "language_info": {
   "codemirror_mode": {
    "name": "ipython",
    "version": 3
   },
   "file_extension": ".py",
   "mimetype": "text/x-python",
   "name": "python",
   "nbconvert_exporter": "python",
   "pygments_lexer": "ipython3",
   "version": "3.8.8"
  }
 },
 "nbformat": 4,
 "nbformat_minor": 1
}
